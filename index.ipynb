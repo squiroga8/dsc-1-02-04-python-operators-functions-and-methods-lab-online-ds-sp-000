{
 "cells": [
  {
   "cell_type": "markdown",
   "metadata": {},
   "source": [
    "# Built-in Python Operators, Functions and Methods - Lab"
   ]
  },
  {
   "cell_type": "markdown",
   "metadata": {},
   "source": [
    "## Introduction\n",
    "We've looked at some of the built-in methods, functions, and the operators that Python provides us with. These are all very powerful tools we can (and will) use in our code. Below, we'll put these new tools to use to solve the tests in this lab."
   ]
  },
  {
   "cell_type": "markdown",
   "metadata": {},
   "source": [
    "## Objectives\n",
    "You will be able to:\n",
    "* Use base Python methods like `.append()`, `.upper()` and `.capitalize()`\n",
    "* Understand (simply) and explain what built in Python methods are\n",
    "* Understand, explain and use some base Python functions like `len()`, `type()`, `sum()`, `max()` and `min()`\n",
    "* Understand and explain what functions are and why they’re useful\n",
    "* Understand, explain and use Python comparison, logical, and identity operators"
   ]
  },
  {
   "cell_type": "markdown",
   "metadata": {},
   "source": [
    "## Instructions"
   ]
  },
  {
   "cell_type": "markdown",
   "metadata": {},
   "source": [
    "Let's start out by using some built-in functions and methods. Employ the appropriate functions and methods to get the intended result."
   ]
  },
  {
   "cell_type": "code",
   "execution_count": 25,
   "metadata": {},
   "outputs": [
    {
     "data": {
      "text/plain": [
       "'HELLO, THERE'"
      ]
     },
     "execution_count": 25,
     "metadata": {},
     "output_type": "execute_result"
    }
   ],
   "source": [
    "yell_hello = \"hello, there\" # \"HELLO, THERE\"\n",
    "yell_hello.upper()"
   ]
  },
  {
   "cell_type": "code",
   "execution_count": 26,
   "metadata": {},
   "outputs": [
    {
     "data": {
      "text/plain": [
       "'psst, hey'"
      ]
     },
     "execution_count": 26,
     "metadata": {},
     "output_type": "execute_result"
    }
   ],
   "source": [
    "whisper_hey = \"PSST, HEY\" # \"psst, hey\"\n",
    "whisper_hey.lower()"
   ]
  },
  {
   "cell_type": "code",
   "execution_count": 27,
   "metadata": {},
   "outputs": [
    {
     "data": {
      "text/plain": [
       "'Learn. Love. Code.'"
      ]
     },
     "execution_count": 27,
     "metadata": {},
     "output_type": "execute_result"
    }
   ],
   "source": [
    "flatiorn_mantra = \"LEARN. LOVE. CODE.\" # \"Learn. Love. Code\"\n",
    "flatiorn_mantra.title()"
   ]
  },
  {
   "cell_type": "code",
   "execution_count": 28,
   "metadata": {},
   "outputs": [
    {
     "data": {
      "text/plain": [
       "str"
      ]
     },
     "execution_count": 28,
     "metadata": {},
     "output_type": "execute_result"
    }
   ],
   "source": [
    "type_string = \"i'm a string\" # str\n",
    "type(type_string)"
   ]
  },
  {
   "cell_type": "code",
   "execution_count": 29,
   "metadata": {},
   "outputs": [
    {
     "data": {
      "text/plain": [
       "list"
      ]
     },
     "execution_count": 29,
     "metadata": {},
     "output_type": "execute_result"
    }
   ],
   "source": [
    "type_list = [\"i'm\", \"a\", \"list\"] # list\n",
    "type(type_list)"
   ]
  },
  {
   "cell_type": "code",
   "execution_count": 30,
   "metadata": {},
   "outputs": [
    {
     "data": {
      "text/plain": [
       "3"
      ]
     },
     "execution_count": 30,
     "metadata": {},
     "output_type": "execute_result"
    }
   ],
   "source": [
    "lenght_of_list = [\"i'm\", \"a\", \"list\"] # 3\n",
    "len(lenght_of_list)"
   ]
  },
  {
   "cell_type": "code",
   "execution_count": 31,
   "metadata": {},
   "outputs": [
    {
     "data": {
      "text/plain": [
       "'list'"
      ]
     },
     "execution_count": 31,
     "metadata": {},
     "output_type": "execute_result"
    }
   ],
   "source": [
    "longest_word_in_list = [\"i'm\", \"a\", \"list\"] # \"list\"\n",
    "max(longest_word_in_list)"
   ]
  },
  {
   "cell_type": "code",
   "execution_count": 32,
   "metadata": {},
   "outputs": [
    {
     "data": {
      "text/plain": [
       "1"
      ]
     },
     "execution_count": 32,
     "metadata": {},
     "output_type": "execute_result"
    }
   ],
   "source": [
    "smallest_number = [1, 3, 4, 78] # 1\n",
    "min(smallest_number)"
   ]
  },
  {
   "cell_type": "code",
   "execution_count": 33,
   "metadata": {},
   "outputs": [
    {
     "data": {
      "text/plain": [
       "11"
      ]
     },
     "execution_count": 33,
     "metadata": {},
     "output_type": "execute_result"
    }
   ],
   "source": [
    "sum_of_numbers = [1,2,3,5] # 11\n",
    "sum(sum_of_numbers)"
   ]
  },
  {
   "cell_type": "markdown",
   "metadata": {},
   "source": [
    "Uncomment out the code in each cell as you start working on them. For example, when you begin on the first two examples in cell one, remove the first `#` on each line. Then, use the correct comparison operator to get the desired output, which you will find in a second comment at the end of the line feel free to remove this comment as well or keep it. Finally, Replace the `[COMPARISON]`, with the correct operator. See the example below.\n",
    "\n",
    "```python\n",
    "# boolean_compare = False [COMPARISON] True # True \n",
    "=> boolean_compare = False != True # True\n",
    "OR\n",
    "=> boolean_compare = False != True\n",
    "```\n",
    "\n",
    "Once uncommented, you can run the tests to see if your comparisons are working the way we would like them to be."
   ]
  },
  {
   "cell_type": "markdown",
   "metadata": {},
   "source": [
    "> **Remember** the comparison operators are: `==`, `!=`, `<`, `>`, `<=`, `>=`"
   ]
  },
  {
   "cell_type": "code",
   "execution_count": 34,
   "metadata": {},
   "outputs": [],
   "source": [
    "boolean_compare = True != True # False\n",
    "boolean_compare2 = False == True # False"
   ]
  },
  {
   "cell_type": "code",
   "execution_count": 35,
   "metadata": {},
   "outputs": [],
   "source": [
    "number_compare = 10 >= 10 # True\n",
    "number_compare2 = -20 < 30 # True\n",
    "number_compare3 = 4 == 5 # False"
   ]
  },
  {
   "cell_type": "code",
   "execution_count": 36,
   "metadata": {},
   "outputs": [],
   "source": [
    "string_compare = \"stacy\" > \"STACY\" # True\n",
    "string_compare2 = \"hey i love python!\" == \"hi love python\" # False\n",
    "string_compare3 = \"this string is bigger than the other\" > \"that is true\" # True"
   ]
  },
  {
   "cell_type": "markdown",
   "metadata": {},
   "source": [
    "In the next section, do not use either `==` or `!=` operators"
   ]
  },
  {
   "cell_type": "code",
   "execution_count": 37,
   "metadata": {
    "scrolled": true
   },
   "outputs": [
    {
     "name": "stdout",
     "output_type": "stream",
     "text": [
      "True\n",
      "True\n",
      "False\n",
      "True\n",
      "False\n"
     ]
    }
   ],
   "source": [
    "list_compare = [0,0,0,0] > [0,0,0] # True\n",
    "print(list_compare)\n",
    "list_compare2 = [1,0,0] > [0,0,0] # True\n",
    "print(list_compare2)\n",
    "list_compare3 = [0,0,0] > [0,0,3] # False\n",
    "print(list_compare3)\n",
    "list_compare4 = [0,0,3,0] > [0,0,3] # True\n",
    "print(list_compare4)\n",
    "list_compare5 = [0,0,4,0] < [0,0,3] # False\n",
    "print(list_compare5)"
   ]
  },
  {
   "cell_type": "markdown",
   "metadata": {},
   "source": [
    "### Practicing Identity and Logical Operators"
   ]
  },
  {
   "cell_type": "markdown",
   "metadata": {},
   "source": [
    "In this next section, use the identity and logical operators to get the desired output as you did in the examples above using the comparison operators."
   ]
  },
  {
   "cell_type": "markdown",
   "metadata": {},
   "source": [
    "> **Remember:**\n",
    "the **logcial operators** are: `and`, `or`, & `not` and\n",
    "the **identity operators** are: `is` & `is not`"
   ]
  },
  {
   "cell_type": "markdown",
   "metadata": {},
   "source": [
    "Use logical opertors for this section"
   ]
  },
  {
   "cell_type": "code",
   "execution_count": 38,
   "metadata": {},
   "outputs": [
    {
     "name": "stdout",
     "output_type": "stream",
     "text": [
      "[]\n",
      "True\n",
      "0\n",
      "2\n",
      "2\n",
      "False\n",
      "False\n"
     ]
    }
   ],
   "source": [
    "logical_compare = 2 and [] # []\n",
    "print(logical_compare)\n",
    "logical_compare2 = not [] # True\n",
    "print(logical_compare2)\n",
    "logical_compare3 = 0 and [] # 0\n",
    "print(logical_compare3)\n",
    "logical_compare4 = True and 2 # 2\n",
    "print(logical_compare4)\n",
    "logical_compare5 = 2 or 3 # 2\n",
    "print(logical_compare5)\n",
    "logical_compare6 = not True # False\n",
    "print(logical_compare6)\n",
    "logical_compare7 = False and 2 # False\n",
    "print(logical_compare7)"
   ]
  },
  {
   "cell_type": "markdown",
   "metadata": {},
   "source": [
    "Use identity opertors for this section"
   ]
  },
  {
   "cell_type": "code",
   "execution_count": 39,
   "metadata": {},
   "outputs": [
    {
     "name": "stdout",
     "output_type": "stream",
     "text": [
      "False\n",
      "True\n",
      "True\n",
      "True\n",
      "False\n",
      "False\n"
     ]
    }
   ],
   "source": [
    "a = []\n",
    "b = a\n",
    "identity_compare = {} is {} # False\n",
    "print(identity_compare)\n",
    "identity_compare2 = a is b # True\n",
    "print(identity_compare2)\n",
    "identity_compare3 = b is not [] # True\n",
    "print(identity_compare3)\n",
    "identity_compare4 = 9 is not 10 # True\n",
    "print(identity_compare4)\n",
    "identity_compare5 = \"Same\" is not \"Same\" # False\n",
    "print(identity_compare5)\n",
    "identity_compare6 = [1,3,4] is [1,2,3] # False\n",
    "print(identity_compare6)"
   ]
  },
  {
   "cell_type": "markdown",
   "metadata": {},
   "source": [
    "# Summary\n",
    "Great work! After all that, there's nothing we can't compare, well I guess apples and oranges might still off the table. We practiced using comparison, logical, and identity operators in Python to compare elements of the same and different datatypes and or values. Going forward, there will be plenty of instances where we will need to compare elements. So, it is important to have a good understanding of how each of these operators works. Don't worry, as with all concepts in programming, the more we work with something the better we understand it. "
   ]
  }
 ],
 "metadata": {
  "kernelspec": {
   "display_name": "learn-env",
   "language": "python",
   "name": "learn-env"
  },
  "language_info": {
   "codemirror_mode": {
    "name": "ipython",
    "version": 3
   },
   "file_extension": ".py",
   "mimetype": "text/x-python",
   "name": "python",
   "nbconvert_exporter": "python",
   "pygments_lexer": "ipython3",
   "version": "3.6.6"
  }
 },
 "nbformat": 4,
 "nbformat_minor": 2
}
